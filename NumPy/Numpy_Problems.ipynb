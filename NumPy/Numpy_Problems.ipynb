{
 "cells": [
  {
   "cell_type": "markdown",
   "metadata": {},
   "source": [
    "1.Write a Python program to convert a list of numeric value into a one-dimensional NumPy array.\n",
    "Expected Output:\n",
    "Original List: [12.23, 13.32, 100, 36.32]\n",
    "One-dimensional numpy array: [ 12.23 13.32 100. 36.32]\n"
   ]
  },
  {
   "cell_type": "code",
   "execution_count": 1,
   "metadata": {},
   "outputs": [
    {
     "name": "stdout",
     "output_type": "stream",
     "text": [
      "[ 12.23  13.32 100.    36.32]\n"
     ]
    }
   ],
   "source": [
    "import numpy as np\n",
    "num_list = [12.23, 13.32, 100, 36.32]\n",
    "num_array = np.array(num_list)\n",
    "print(num_array)"
   ]
  },
  {
   "cell_type": "markdown",
   "metadata": {},
   "source": [
    "2.Create a 3x3 matrix with values ranging from 2 to 10.\n",
    "Expected Output:\n",
    "[[ 2 3 4]\n",
    "[ 5 6 7]\n",
    "[ 8 9 10]]\n"
   ]
  },
  {
   "cell_type": "code",
   "execution_count": 2,
   "metadata": {},
   "outputs": [
    {
     "name": "stdout",
     "output_type": "stream",
     "text": [
      "[[ 2  3  4]\n",
      " [ 5  6  7]\n",
      " [ 8  9 10]]\n"
     ]
    }
   ],
   "source": [
    "arr = np.arange(2,11).reshape(3,3)\n",
    "print(arr)\n"
   ]
  },
  {
   "cell_type": "markdown",
   "metadata": {},
   "source": [
    "3.Write a Python program to create a null vector of size 10 and update sixth value to 11.\n",
    "[ 0. 0. 0. 0. 0. 0. 0. 0. 0. 0.]\n",
    "Update sixth value to 11\n",
    "[ 0. 0. 0. 0. 0. 0. 11. 0. 0. 0.]\n"
   ]
  },
  {
   "cell_type": "code",
   "execution_count": 3,
   "metadata": {},
   "outputs": [
    {
     "name": "stdout",
     "output_type": "stream",
     "text": [
      "Size 10 1D array having all element as zero : \n",
      "[0. 0. 0. 0. 0. 0. 0. 0. 0. 0.]\n",
      "After modifying 6th index element : \n",
      "[ 0.  0.  0.  0.  0.  0. 11.  0.  0.  0.]\n"
     ]
    }
   ],
   "source": [
    "arr = np.zeros(10)\n",
    "print(\"Size 10 1D array having all element as zero : \")\n",
    "print(arr)\n",
    "arr[6] = 11\n",
    "print(\"After modifying 6th index element : \")\n",
    "print(arr)"
   ]
  },
  {
   "cell_type": "markdown",
   "metadata": {},
   "source": [
    "4.Write a Python program to reverse an array (first element becomes last).\n"
   ]
  },
  {
   "cell_type": "code",
   "execution_count": 4,
   "metadata": {},
   "outputs": [
    {
     "name": "stdout",
     "output_type": "stream",
     "text": [
      "Original Array : \n",
      "[12 13 14 15 16 17 18 19 20 21 22 23 24 25 26 27 28 29 30 31 32 33 34 35\n",
      " 36 37]\n",
      "Reverse Array : \n",
      "[37 36 35 34 33 32 31 30 29 28 27 26 25 24 23 22 21 20 19 18 17 16 15 14\n",
      " 13 12]\n"
     ]
    }
   ],
   "source": [
    "arr = np.arange(12,38)\n",
    "print(\"Original Array : \")\n",
    "print(arr)\n",
    "print(\"Reverse Array : \")\n",
    "print(arr[::-1])"
   ]
  },
  {
   "cell_type": "markdown",
   "metadata": {},
   "source": [
    "5.Write a Python program to create a 2d array with 1 on the border and 0 inside."
   ]
  },
  {
   "cell_type": "code",
   "execution_count": 5,
   "metadata": {},
   "outputs": [
    {
     "name": "stdout",
     "output_type": "stream",
     "text": [
      "Original Array : \n",
      "\n",
      "[[1. 1. 1. 1. 1.]\n",
      " [1. 1. 1. 1. 1.]\n",
      " [1. 1. 1. 1. 1.]\n",
      " [1. 1. 1. 1. 1.]\n",
      " [1. 1. 1. 1. 1.]]\n",
      "\n",
      "Expected Ouput : \n",
      "\n",
      "[[1. 1. 1. 1. 1.]\n",
      " [1. 0. 0. 0. 1.]\n",
      " [1. 0. 0. 0. 1.]\n",
      " [1. 0. 0. 0. 1.]\n",
      " [1. 1. 1. 1. 1.]]\n"
     ]
    }
   ],
   "source": [
    "arr = np.ones([5,5])\n",
    "print(\"Original Array : \\n\")\n",
    "print(arr)\n",
    "arr[1:-1 , 1:-1] = 0\n",
    "print(\"\\nExpected Ouput : \\n\")\n",
    "print(arr)"
   ]
  },
  {
   "cell_type": "markdown",
   "metadata": {},
   "source": [
    "6.Write a Python program to add a border (filled with 0's) around an existing array."
   ]
  },
  {
   "cell_type": "code",
   "execution_count": 6,
   "metadata": {},
   "outputs": [
    {
     "name": "stdout",
     "output_type": "stream",
     "text": [
      "Original array:\n",
      "[[1. 1. 1.]\n",
      " [1. 1. 1.]\n",
      " [1. 1. 1.]]\n",
      "0 on the border and 1 inside in the array\n",
      "[[0. 0. 0. 0. 0.]\n",
      " [0. 1. 1. 1. 0.]\n",
      " [0. 1. 1. 1. 0.]\n",
      " [0. 1. 1. 1. 0.]\n",
      " [0. 0. 0. 0. 0.]]\n"
     ]
    }
   ],
   "source": [
    "arr = np.ones((3,3))\n",
    "print(\"Original array:\")\n",
    "print(arr)\n",
    "print(\"0 on the border and 1 inside in the array\")\n",
    "arr = np.pad(arr,1)\n",
    "print(arr)"
   ]
  },
  {
   "cell_type": "markdown",
   "metadata": {},
   "source": [
    "7.Write a Python program to create a 8x8 matrix and fill it with a checkerboard pattern."
   ]
  },
  {
   "cell_type": "code",
   "execution_count": 7,
   "metadata": {},
   "outputs": [
    {
     "name": "stdout",
     "output_type": "stream",
     "text": [
      "Expected Ouput : \n",
      "\n",
      "[[0 1 0 1 0 1 0 1]\n",
      " [1 0 1 0 1 0 1 0]\n",
      " [0 1 0 1 0 1 0 1]\n",
      " [1 0 1 0 1 0 1 0]\n",
      " [0 1 0 1 0 1 0 1]\n",
      " [1 0 1 0 1 0 1 0]\n",
      " [0 1 0 1 0 1 0 1]\n",
      " [1 0 1 0 1 0 1 0]]\n"
     ]
    }
   ],
   "source": [
    "arr = np.zeros((8,8),dtype=int)\n",
    "arr[1::2,::2] = 1\n",
    "arr[::2,1::2] = 1\n",
    "print(\"Expected Ouput : \\n\")\n",
    "print(arr)"
   ]
  },
  {
   "cell_type": "markdown",
   "metadata": {},
   "source": [
    "8.Write a Python program to convert a list and tuple into arrays."
   ]
  },
  {
   "cell_type": "code",
   "execution_count": 8,
   "metadata": {},
   "outputs": [
    {
     "name": "stdout",
     "output_type": "stream",
     "text": [
      "List to array : \n",
      "\n",
      "[1 2 3 4 5 6 7 8]\n",
      "\n",
      "Tuple to array : \n",
      "\n",
      "[[8 4 6]\n",
      " [1 2 3]]\n"
     ]
    }
   ],
   "source": [
    "list = [1,2,3,4,5,6,7,8]\n",
    "tuple_ele = ([8,4,6],[1,2,3])\n",
    "list_to_arr = np.array(list,dtype=int)\n",
    "tuple_to_arr = np.array(tuple_ele)\n",
    "print(\"List to array : \\n\")\n",
    "print(list_to_arr)\n",
    "print(\"\\nTuple to array : \\n\")\n",
    "print(tuple_to_arr)"
   ]
  },
  {
   "cell_type": "markdown",
   "metadata": {},
   "source": [
    "9.Write a Python program to append values to the end of an array."
   ]
  },
  {
   "cell_type": "code",
   "execution_count": 9,
   "metadata": {},
   "outputs": [
    {
     "name": "stdout",
     "output_type": "stream",
     "text": [
      "Old Array : \n",
      "[10 20 30]\n",
      "New Array : \n",
      "[10 20 30 30 40 50 60 70 80 90]\n"
     ]
    }
   ],
   "source": [
    "arr = np.array([10,20,30],dtype=int)\n",
    "print(\"Old Array : \")\n",
    "print(arr)\n",
    "arr2 = np.array([30,40,50,60,70,80],dtype=int)\n",
    "new_arr = np.append(arr , arr2)\n",
    "new_arr = np.append(new_arr,90)\n",
    "print(\"New Array : \")\n",
    "print(new_arr)"
   ]
  },
  {
   "cell_type": "markdown",
   "metadata": {},
   "source": [
    "10.Write a Python program to find the real and imaginary parts of an array of complex\n",
    "numbers."
   ]
  },
  {
   "cell_type": "code",
   "execution_count": 10,
   "metadata": {},
   "outputs": [
    {
     "name": "stdout",
     "output_type": "stream",
     "text": [
      "Real part of Array : \n",
      "[1.         0.70710678]\n",
      "Imaginary part of Array : \n",
      "[0.         0.70710678]\n"
     ]
    }
   ],
   "source": [
    "complex_num_list =  [1.00000000 + 0.j , 0.70710678 + 0.70710678j]\n",
    "comple_num_arr = np.array(complex_num_list)\n",
    "real_arr = []\n",
    "img_arr = []\n",
    "for i in comple_num_arr:\n",
    "    real_arr.append(i.real)\n",
    "    img_arr.append(i.imag)\n",
    "print(\"Real part of Array : \")\n",
    "print(np.array(real_arr))\n",
    "print(\"Imaginary part of Array : \")\n",
    "print(np.array(img_arr))"
   ]
  },
  {
   "cell_type": "markdown",
   "metadata": {},
   "source": [
    "11.Write a Python program to find the number of elements of an array, length of one array element in bytes and total bytes consumed by the elements."
   ]
  },
  {
   "cell_type": "code",
   "execution_count": 11,
   "metadata": {},
   "outputs": [
    {
     "name": "stdout",
     "output_type": "stream",
     "text": [
      "Size of the array : 3\n",
      "Length of one array element in bytes : 32\n",
      "Total bytes consumed by the elements of the array : 12\n"
     ]
    }
   ],
   "source": [
    "arr = np.array([1,2,3],dtype=int)\n",
    "arr1 = np.array([\"Madhavee\",\"Kadivar\",\" \"])\n",
    "print(f\"Size of the array : {arr.size}\")\n",
    "print(f\"Length of one array element in bytes : {arr1.itemsize}\")\n",
    "print(f\"Total bytes consumed by the elements of the array : {arr.nbytes}\")"
   ]
  },
  {
   "cell_type": "markdown",
   "metadata": {},
   "source": [
    "12.Write a Python program to find common values between two arrays."
   ]
  },
  {
   "cell_type": "code",
   "execution_count": 12,
   "metadata": {},
   "outputs": [
    {
     "name": "stdout",
     "output_type": "stream",
     "text": [
      "Common element between [ 0 10 20 40 60] and [10, 30, 40] are : [10 40]\n"
     ]
    }
   ],
   "source": [
    "array1 =  np.array([0,10,20,40,60],dtype=int)\n",
    "array2 = [10, 30, 40]\n",
    "\n",
    "common_ele = np.intersect1d(array1,array2)\n",
    "print(f\"Common element between {array1} and {array2} are : {common_ele}\")"
   ]
  },
  {
   "cell_type": "markdown",
   "metadata": {},
   "source": [
    "13.Write a Python program to find the set difference of two arrays. The set difference will return the sorted, unique values in array1 that are not in array2."
   ]
  },
  {
   "cell_type": "code",
   "execution_count": 13,
   "metadata": {},
   "outputs": [
    {
     "name": "stdout",
     "output_type": "stream",
     "text": [
      "Set difference between [ 0 10 20 40 60 80] and [10, 30, 40, 50, 70, 90] are : [ 0 20 60 80]\n"
     ]
    }
   ],
   "source": [
    "array1 =  np.array([0,10,20,40,60,80],dtype=int)\n",
    "array2 = [10, 30, 40 ,50,70,90]\n",
    "\n",
    "set_difference = np.setdiff1d(array1,array2)\n",
    "print(f\"Set difference between {array1} and {array2} are : {set_difference}\")"
   ]
  },
  {
   "cell_type": "markdown",
   "metadata": {},
   "source": [
    "14.Write a Python program to find the set exclusive-or of two arrays. Set exclusive-or will return the sorted, unique values that are in only one (not both) of the input arrays."
   ]
  },
  {
   "cell_type": "code",
   "execution_count": 14,
   "metadata": {},
   "outputs": [
    {
     "name": "stdout",
     "output_type": "stream",
     "text": [
      "Set exclusive or between [ 0 10 20 40 60 80] and [10, 30, 40, 50, 70] are : [ 0 20 30 50 60 70 80]\n"
     ]
    }
   ],
   "source": [
    "array1 =  np.array([ 0,10,20,40,60,80 ],dtype=int)\n",
    "array2 = [10, 30, 40, 50, 70]\n",
    "\n",
    "set_exclusive_or = np.setxor1d(array1,array2)\n",
    "print(f\"Set exclusive or between {array1} and {array2} are : {set_exclusive_or}\")"
   ]
  },
  {
   "cell_type": "markdown",
   "metadata": {},
   "source": [
    "15.Write a Python program compare two arrays using numpy."
   ]
  },
  {
   "cell_type": "code",
   "execution_count": 15,
   "metadata": {},
   "outputs": [
    {
     "name": "stdout",
     "output_type": "stream",
     "text": [
      "a > b\n",
      "[False False]\n",
      "a >= b\n",
      "[False False]\n",
      "a < b\n",
      "[ True  True]\n",
      "a <= b\n",
      "[ True  True]\n"
     ]
    }
   ],
   "source": [
    "a = np.array([1,2] , dtype=int)\n",
    "b = np.array([4,5] , dtype=int)\n",
    "\n",
    "print(\"a > b\")\n",
    "print(np.greater(a, b))\n",
    " \n",
    "print(\"a >= b\")\n",
    "print(np.greater_equal(a, b))\n",
    " \n",
    "print(\"a < b\")\n",
    "print(np.less(a, b))\n",
    " \n",
    "print(\"a <= b\")\n",
    "print(np.less_equal(a, b))"
   ]
  },
  {
   "cell_type": "markdown",
   "metadata": {},
   "source": [
    "15.Write a Python program to save a NumPy array to a text file."
   ]
  },
  {
   "cell_type": "code",
   "execution_count": 16,
   "metadata": {},
   "outputs": [
    {
     "name": "stdout",
     "output_type": "stream",
     "text": [
      "\n",
      "Content in file.txt:\n",
      " [1 2 3 4 5]\n",
      "\n",
      "Content in file1.txt:\n",
      " [1. 2. 3. 4. 5.]\n"
     ]
    }
   ],
   "source": [
    "arr = np.array([1,2,3,4,5])\n",
    "with open(\"file.txt\",\"w\") as f:\n",
    "    f.write(str(arr))\n",
    "with open(\"file.txt\",\"r\") as f:\n",
    "    content = f.read()  \n",
    "print(\"\\nContent in file.txt:\\n\", content)\n",
    "\n",
    "np.savetxt(\"file1.txt\", arr)\n",
    "content = np.loadtxt(\"file1.txt\")\n",
    "print(\"\\nContent in file1.txt:\\n\", content)"
   ]
  },
  {
   "cell_type": "markdown",
   "metadata": {},
   "source": [
    "16.Write a Python program to create a contiguous flattened array."
   ]
  },
  {
   "cell_type": "code",
   "execution_count": 17,
   "metadata": {},
   "outputs": [
    {
     "name": "stdout",
     "output_type": "stream",
     "text": [
      "[[[10 20 30]\n",
      "  [20 40 50]]]\n",
      "\n",
      "Flattened array: [10 20 30 20 40 50]\n"
     ]
    }
   ],
   "source": [
    "arr = np.array([[[10, 20, 30],[20, 40, 50]]], dtype=int)\n",
    "print(arr)\n",
    "flattened_arr = np.ravel(arr)\n",
    "print(f\"\\nFlattened array: {flattened_arr}\")"
   ]
  },
  {
   "cell_type": "markdown",
   "metadata": {},
   "source": [
    "17.Write a Python program to change the data type of an array."
   ]
  },
  {
   "cell_type": "code",
   "execution_count": 18,
   "metadata": {},
   "outputs": [
    {
     "name": "stdout",
     "output_type": "stream",
     "text": [
      "[[ 2  4  6]\n",
      " [ 6  8 10]]\n",
      "Data type of the array is: int32\n",
      "\n",
      "New Type: float64\n",
      "[[ True  True  True]\n",
      " [ True  True  True]]\n"
     ]
    }
   ],
   "source": [
    "arr = np.array([[2, 4, 6],[6, 8, 10]])\n",
    "print(arr)\n",
    "print(f\"Data type of the array is: {arr.dtype}\")\n",
    "print(\"\\nNew Type: float64\")\n",
    "arr = arr.astype('bool')\n",
    "print(arr)"
   ]
  },
  {
   "cell_type": "markdown",
   "metadata": {},
   "source": [
    "18.Write a Python program to create a 3-D array with ones on a diagonal and zeros elsewhere."
   ]
  },
  {
   "cell_type": "code",
   "execution_count": 19,
   "metadata": {},
   "outputs": [
    {
     "name": "stdout",
     "output_type": "stream",
     "text": [
      "[[1. 0. 0.]\n",
      " [0. 1. 0.]\n",
      " [0. 0. 1.]]\n",
      "[[1. 0. 0.]\n",
      " [0. 1. 0.]\n",
      " [0. 0. 1.]]\n"
     ]
    }
   ],
   "source": [
    "arr = np.identity(3)\n",
    "print(arr)\n",
    "arr1 = np.eye(3)\n",
    "print(arr1)"
   ]
  },
  {
   "cell_type": "markdown",
   "metadata": {},
   "source": [
    "19.Write a Python program to create an array which looks like below array.\n",
    "Expected Output:\n",
    "[[ 0. 0. 0.]\n",
    "[ 1. 0. 0.]\n",
    "[ 1. 1. 0.]\n",
    "\n",
    "[ 1. 1. 1.]]\n"
   ]
  },
  {
   "cell_type": "code",
   "execution_count": 20,
   "metadata": {},
   "outputs": [
    {
     "name": "stdout",
     "output_type": "stream",
     "text": [
      "[[1. 0. 0.]\n",
      " [1. 1. 0.]\n",
      " [1. 1. 1.]\n",
      " [1. 1. 1.]]\n"
     ]
    }
   ],
   "source": [
    "arr = np.ones([4,3])\n",
    "arr = np.tril(arr)\n",
    "print(arr)"
   ]
  },
  {
   "cell_type": "markdown",
   "metadata": {},
   "source": [
    "20.Write a Python program to concatenate two 2-dimensional arrays."
   ]
  },
  {
   "cell_type": "code",
   "execution_count": 21,
   "metadata": {},
   "outputs": [
    {
     "name": "stdout",
     "output_type": "stream",
     "text": [
      "[[ 0  1  3  0  2  4]\n",
      " [ 5  7  9  6  8 10]]\n"
     ]
    }
   ],
   "source": [
    "arr1 = np.array([[0, 1, 3], [5, 7, 9]] , dtype=int)\n",
    "arr2 = np.array([[0, 2, 4], [6, 8, 10]] , dtype=int)\n",
    "new_arr = np.concatenate((arr1,arr2) , axis = 1)\n",
    "print(new_arr)"
   ]
  },
  {
   "cell_type": "markdown",
   "metadata": {},
   "source": [
    "21.Write a Python program to make an array immutable (read-only)."
   ]
  },
  {
   "cell_type": "code",
   "execution_count": 22,
   "metadata": {},
   "outputs": [
    {
     "name": "stdout",
     "output_type": "stream",
     "text": [
      "[1 2 3 4 5]\n"
     ]
    },
    {
     "ename": "ValueError",
     "evalue": "assignment destination is read-only",
     "output_type": "error",
     "traceback": [
      "\u001b[1;31m---------------------------------------------------------------------------\u001b[0m",
      "\u001b[1;31mValueError\u001b[0m                                Traceback (most recent call last)",
      "\u001b[1;32md:\\Python_ML_Bridgelabz\\Numpy_Problems.ipynb Cell 44'\u001b[0m in \u001b[0;36m<cell line: 4>\u001b[1;34m()\u001b[0m\n\u001b[0;32m      <a href='vscode-notebook-cell:/d%3A/Python_ML_Bridgelabz/Numpy_Problems.ipynb#ch0000043?line=1'>2</a>\u001b[0m arr\u001b[39m.\u001b[39mflags\u001b[39m.\u001b[39mwriteable \u001b[39m=\u001b[39m \u001b[39mFalse\u001b[39;00m\n\u001b[0;32m      <a href='vscode-notebook-cell:/d%3A/Python_ML_Bridgelabz/Numpy_Problems.ipynb#ch0000043?line=2'>3</a>\u001b[0m \u001b[39mprint\u001b[39m(arr)\n\u001b[1;32m----> <a href='vscode-notebook-cell:/d%3A/Python_ML_Bridgelabz/Numpy_Problems.ipynb#ch0000043?line=3'>4</a>\u001b[0m arr[\u001b[39m0\u001b[39m] \u001b[39m=\u001b[39m \u001b[39m9\u001b[39m\n\u001b[0;32m      <a href='vscode-notebook-cell:/d%3A/Python_ML_Bridgelabz/Numpy_Problems.ipynb#ch0000043?line=4'>5</a>\u001b[0m \u001b[39mprint\u001b[39m(arr)\n",
      "\u001b[1;31mValueError\u001b[0m: assignment destination is read-only"
     ]
    }
   ],
   "source": [
    "arr = np.array((1,2,3,4,5),dtype=int)\n",
    "arr.flags.writeable = False\n",
    "print(arr)\n",
    "arr[0] = 9\n",
    "print(arr)"
   ]
  },
  {
   "cell_type": "markdown",
   "metadata": {},
   "source": [
    "22.Write a Python program to create an array of (3, 4) shape, multiply every element\n",
    "value by 3 and display the new array."
   ]
  },
  {
   "cell_type": "code",
   "execution_count": null,
   "metadata": {},
   "outputs": [
    {
     "name": "stdout",
     "output_type": "stream",
     "text": [
      "[[ 0  3  6  9]\n",
      " [12 15 18 21]\n",
      " [24 27 30 33]]\n"
     ]
    }
   ],
   "source": [
    "arr = np.arange(12).reshape(3,4)\n",
    "number = 3\n",
    "arr = arr * number\n",
    "print(arr)"
   ]
  },
  {
   "cell_type": "markdown",
   "metadata": {},
   "source": [
    "23.Write a Python program to convert a NumPy array into Python list structure."
   ]
  },
  {
   "cell_type": "code",
   "execution_count": null,
   "metadata": {},
   "outputs": [
    {
     "name": "stdout",
     "output_type": "stream",
     "text": [
      "Original array elements : \n",
      "[[0 1]\n",
      " [2 3]\n",
      " [4 5]]\n",
      "Array to list : \n",
      "[[0, 1], [2, 3], [4, 5]]\n"
     ]
    }
   ],
   "source": [
    "numpy_arr  = np.arange(0,6).reshape(3,2)\n",
    "print(\"Original array elements : \")\n",
    "print(numpy_arr)\n",
    "list = numpy_arr.tolist()\n",
    "print(\"Array to list : \")\n",
    "print(list)"
   ]
  },
  {
   "cell_type": "markdown",
   "metadata": {},
   "source": [
    "24.Write a Python program to convert a NumPy array into Python list structure."
   ]
  },
  {
   "cell_type": "code",
   "execution_count": null,
   "metadata": {},
   "outputs": [
    {
     "name": "stdout",
     "output_type": "stream",
     "text": [
      "Original Array Elements : \n",
      "[0.26153123 0.52760141 0.5718299  0.5927067  0.7831874  0.69746349\n",
      " 0.35399976 0.99469633 0.0694458  0.54711478]\n",
      "Array with precision value 3 : \n",
      "[0.262 0.528 0.572 0.593 0.783 0.697 0.354 0.995 0.069 0.547]\n"
     ]
    }
   ],
   "source": [
    "list  = [ 0.26153123, 0.52760141, 0.5718299, 0.5927067, 0.7831874, 0.69746349, 0.35399976, 0.99469633, 0.0694458, 0.54711478]\n",
    "arr = np.array(list,dtype=float)\n",
    "print(\"Original Array Elements : \")\n",
    "print(arr)\n",
    "print(\"Array with precision value 3 : \")\n",
    "arr = arr.round(3)\n",
    "print(arr)\n"
   ]
  },
  {
   "cell_type": "markdown",
   "metadata": {},
   "source": [
    "25.Write a Python program to suppresses the use of scientific notation for small numbers in numpy array"
   ]
  },
  {
   "cell_type": "code",
   "execution_count": null,
   "metadata": {},
   "outputs": [
    {
     "name": "stdout",
     "output_type": "stream",
     "text": [
      "Original Array Elements : \n",
      "[1.60e-10 1.60e+00 1.20e+03 2.35e-01]\n",
      "Array with precision value 3 : \n",
      "[   0.       1.6   1200.       0.235]\n"
     ]
    }
   ],
   "source": [
    "arr = np.array([ 1.60000000e-10, 1.60000000e+00, 1.20000000e+03, 2.35000000e-01])\n",
    "print(\"Original Array Elements : \")\n",
    "print(arr)\n",
    "print(\"Array with precision value 3 : \")\n",
    "np.set_printoptions(precision = 3 ,suppress=True)\n",
    "print(arr)"
   ]
  },
  {
   "cell_type": "markdown",
   "metadata": {},
   "source": [
    "26.Write a Python program to how to add an extra column to an numpy array."
   ]
  },
  {
   "cell_type": "code",
   "execution_count": null,
   "metadata": {},
   "outputs": [
    {
     "name": "stdout",
     "output_type": "stream",
     "text": [
      "Original array : \n",
      "[[10 20 30]\n",
      " [40 50 60]]\n",
      "Array after adding column : \n",
      "[[ 10  20  30 100]\n",
      " [ 40  50  60 200]]\n"
     ]
    }
   ],
   "source": [
    "arr = np.array([[ 10, 20, 30],[ 40, 50, 60 ]])\n",
    "print(\"Original array : \")\n",
    "print(arr)\n",
    "new_array = np.array([[100],[200]])\n",
    "arr = np.column_stack((arr, new_array))\n",
    "# arr = np.append(arr,new_array,axis = 1)\n",
    "print(\"Array after adding column : \")\n",
    "print(arr)"
   ]
  },
  {
   "cell_type": "markdown",
   "metadata": {},
   "source": [
    "27.Write a Python program to remove specific elements in a numpy array."
   ]
  },
  {
   "cell_type": "code",
   "execution_count": null,
   "metadata": {},
   "outputs": [
    {
     "name": "stdout",
     "output_type": "stream",
     "text": [
      "Original Array :\n",
      "[ 10  20  30  40  50  60  70  80  90 100]\n",
      "After deleting first,fourth and fifth element : \n",
      "[ 20  30  60  70  80  90 100]\n"
     ]
    }
   ],
   "source": [
    "arr = np.array([ 10, 20, 30, 40, 50, 60, 70, 80, 90, 100])\n",
    "print(\"Original Array :\")\n",
    "print(arr)\n",
    "arr = np.delete(arr, [0,3,4])\n",
    "print(\"After deleting first,fourth and fifth element : \")\n",
    "print(arr)\n"
   ]
  }
 ],
 "metadata": {
  "interpreter": {
   "hash": "494deeb4eea7fb63b62f74ba02ace728543e0003fbb675bfec79f4f4980c3f04"
  },
  "kernelspec": {
   "display_name": "Python 3.8.10 64-bit",
   "language": "python",
   "name": "python3"
  },
  "language_info": {
   "codemirror_mode": {
    "name": "ipython",
    "version": 3
   },
   "file_extension": ".py",
   "mimetype": "text/x-python",
   "name": "python",
   "nbconvert_exporter": "python",
   "pygments_lexer": "ipython3",
   "version": "3.8.10"
  },
  "orig_nbformat": 4
 },
 "nbformat": 4,
 "nbformat_minor": 2
}
